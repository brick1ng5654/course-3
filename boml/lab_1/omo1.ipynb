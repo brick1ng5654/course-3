{
 "cells": [
  {
   "cell_type": "markdown",
   "id": "4413323f",
   "metadata": {},
   "source": [
    "Здесь идет добавление всех нужных библиотек и команд"
   ]
  },
  {
   "cell_type": "code",
   "execution_count": 22,
   "id": "2283d80e",
   "metadata": {},
   "outputs": [
    {
     "name": "stdout",
     "output_type": "stream",
     "text": [
      "Setup Complite\n"
     ]
    }
   ],
   "source": [
    "import pandas as pd\n",
    "import matplotlib.pyplot as plt\n",
    "import seaborn as sns\n",
    "from sklearn import preprocessing\n",
    "import numpy as np\n",
    "%matplotlib inline\n",
    "print(\"Setup Complite\")"
   ]
  },
  {
   "cell_type": "code",
   "execution_count": 23,
   "id": "ff13645e",
   "metadata": {},
   "outputs": [],
   "source": [
    "#Path of the file to read\n",
    "filepath = \"health_lifestyle_classification.csv\"\n",
    "#Read the file into a variable df\n",
    "df = pd.read_csv(filepath)\n"
   ]
  },
  {
   "cell_type": "markdown",
   "id": "b934775d",
   "metadata": {},
   "source": [
    "В переменной filepath хранится путь до датасета. В переменной insurance_data хранится дата фрейм по нашему датасету"
   ]
  },
  {
   "cell_type": "code",
   "execution_count": 24,
   "id": "38859056",
   "metadata": {},
   "outputs": [],
   "source": [
    "delete_columns = [\n",
    "    'screen_time',\n",
    "    'family_history',\n",
    "    'mental_health_score',\n",
    "    'occupation',\n",
    "    'mental_health_support',\n",
    "    'device_usage',\n",
    "    'healthcare_access',\n",
    "    'insurance',\n",
    "    'pet_owner',\n",
    "    'height',\n",
    "    'weight',\n",
    "    'waist_size',\n",
    "    'bmi',\n",
    "    'physical_activity',\n",
    "    'education_level',\n",
    "    'job_type',\n",
    "    'income',\n",
    "    'electrolyte_level',\n",
    "    'gene_marker_flag',\n",
    "    'environmental_risk_score',\n",
    "    'daily_supplement_dosage'\n",
    "]\n",
    "\n",
    "for column in delete_columns:\n",
    "    df = df.drop(column, axis=1)"
   ]
  },
  {
   "cell_type": "markdown",
   "id": "c08e9f80",
   "metadata": {},
   "source": [
    "\n",
    "\n",
    "В датасете более 100+ тысяч строк и 41 признак. Выберем необходимое и отсеем лишнее.\n",
    "\n",
    "Целевым признаком для предсказания будет target (Бинарная классификация): healthy (здоров) / diseased (болен)\n",
    "\n",
    "Из числовых признаков возьмём:\n",
    "- age (Возраст)\n",
    "- bmi (Индекс массы тела)\n",
    "- blood pressure\n",
    "- cholesterol\n",
    "- glucose\n",
    "- insulin\n",
    "- calorie intake\n",
    "- sugar intake\n",
    "- water intake\n",
    "- stress level\n",
    "- heart rate\n",
    "- sleep hours\n",
    "- work hours\n",
    "- daily steps\n",
    "\n",
    "Из категориальных признаков возьмём:\n",
    "- gender\n",
    "- diet type\n",
    "- sleep quality\n",
    "- sunlight exposure\n",
    "- caffeine intake\n",
    "- exercise type\n",
    "- meals per day\n",
    "- alchohol consumption\n",
    "- smoking level\n",
    "\n",
    "Таким образом были убраны следующие признаки:\n",
    "- screen time\n",
    "- family history\n",
    "- mental health score\n",
    "- occupation\n",
    "- mental health support\n",
    "- device usage\n",
    "- healthcare access\n",
    "- insurance\n",
    "- pet owner\n",
    "- height\n",
    "- weight\n",
    "- waist size\n",
    "- bmi ?*\n",
    "- physical activity\n",
    "- education level\n",
    "- job type\n",
    "- income\n",
    "- electrolyte level\n",
    "- gene marker flag\n",
    "- enviromnent risk score\n",
    "- daily supplement dosage\n"
   ]
  },
  {
   "cell_type": "code",
   "execution_count": 25,
   "id": "94b1986c",
   "metadata": {},
   "outputs": [],
   "source": [
    "for column in df.columns:\n",
    "    if (df[column].dtype == \"int64\" or df[column].dtype == \"float64\"):\n",
    "        median = df[column].median()\n",
    "        df[column] = df[column].fillna(median)\n",
    "    else:\n",
    "        df = df.dropna(subset=[column])"
   ]
  },
  {
   "cell_type": "markdown",
   "id": "030b054e",
   "metadata": {},
   "source": [
    "Здесь происходит отчищение, то есть если столбец с числовыми значениями, то мы заменяем пропуски на медиану всего столбца. Если качественный значения - удаляем."
   ]
  },
  {
   "cell_type": "code",
   "execution_count": 26,
   "id": "280a9731",
   "metadata": {},
   "outputs": [],
   "source": [
    "def normalize_object_data(series):\n",
    "    frequency_mapping = {\n",
    "        \"Male\": 0,\n",
    "        \"Female\": 1,\n",
    "        \"Poor\": 0,\n",
    "        \"Fair\": 1,\n",
    "        \"Good\": 2,\n",
    "        \"Excellent\": 3,\n",
    "        \"Occasionally\": 0,\n",
    "        \"Regularly\": 1,\n",
    "        \"Non-smoker\": 0,\n",
    "        \"Light\": 1,\n",
    "        \"Heavy\": 2,\n",
    "        \"No\": 0,\n",
    "        \"Yes\": 1,\n",
    "        \"High School\": 0,\n",
    "        \"Bachelor\": 1,\n",
    "        \"Master\": 2,\n",
    "        \"PhD\": 3,\n",
    "        \"Tech\": 0,\n",
    "        \"Office\": 1,\n",
    "        \"Labor\": 2,\n",
    "        \"Unemployed\": 3,\n",
    "        \"Service\": 4,\n",
    "        \"Healthcare\": 5,\n",
    "        \"Vegan\": 0,\n",
    "        \"Vegetarian\": 1,\n",
    "        \"Omnivore\": 2,\n",
    "        \"Keto\": 3,\n",
    "        \"Strength\": 0,\n",
    "        \"Cardio\": 1,\n",
    "        \"Mixed\": 2,\n",
    "        \"Low\": 0,\n",
    "        \"Moderate\": 1,\n",
    "        \"High\": 2,\n",
    "        \"diseased\": 0,\n",
    "        \"healthy\": 1\n",
    "    }\n",
    "    series = series.map(frequency_mapping)\n",
    "    return series"
   ]
  },
  {
   "cell_type": "markdown",
   "id": "f8869c63",
   "metadata": {},
   "source": [
    "Это функция, которая позволяет нормализовать качественные значения, то есть Все значения в столбце меняются на 0, 1"
   ]
  },
  {
   "cell_type": "code",
   "execution_count": 27,
   "id": "abfee237",
   "metadata": {},
   "outputs": [],
   "source": [
    "#Normalization of Data Frame\n",
    "array_normalize = []\n",
    "for column in df.columns:\n",
    "    if (df[column].dtype == \"int64\" or df[column].dtype == \"float64\"):\n",
    "        array = np.array(df[column])\n",
    "        normalize_arr = preprocessing.normalize([array])\n",
    "        array_normalize.append(normalize_arr[0])\n",
    "    else:\n",
    "        normalize_column = normalize_object_data(df[column])\n",
    "        normalize_arr = np.array(normalize_column)\n",
    "        array_normalize.append(normalize_arr)\n"
   ]
  },
  {
   "cell_type": "markdown",
   "id": "f3813fd0",
   "metadata": {},
   "source": [
    "Здесь соответсвенно идет нормализация всех данных в Data Frame, числовые - с помощью preprocessing.normalize, а качественные через предыдущую функцию"
   ]
  },
  {
   "cell_type": "code",
   "execution_count": 28,
   "id": "25bde530",
   "metadata": {},
   "outputs": [],
   "source": [
    "#Delete dublicates\n",
    "df_final = pd.DataFrame(array_normalize)\n",
    "df_final = df_final.T\n",
    "#insurance_data_unique = insurance_data.drop_duplicates()\n",
    "df_final = df_final.drop_duplicates()\n",
    "df_final.columns = df.columns\n"
   ]
  },
  {
   "cell_type": "markdown",
   "id": "c7f83988",
   "metadata": {},
   "source": [
    "Поскольку мы сохранили нормализованные данные в двумерный массив, то теперь мы из него делаем обратно Data Frame, транспонируем таблицу(чтобы столбцы и строки были на своих местах а не наоборот), удаляем дубликаты. Также меняем названия столбцов на исходные."
   ]
  },
  {
   "cell_type": "code",
   "execution_count": 29,
   "id": "4b65d849",
   "metadata": {},
   "outputs": [],
   "source": [
    "#Diagram\n",
    "# plt.figure(figsize=(10, 7))\n",
    "# plt.scatter()"
   ]
  },
  {
   "cell_type": "code",
   "execution_count": null,
   "id": "4159f743",
   "metadata": {},
   "outputs": [],
   "source": []
  },
  {
   "cell_type": "code",
   "execution_count": null,
   "id": "c3ff0d1d",
   "metadata": {},
   "outputs": [],
   "source": []
  }
 ],
 "metadata": {
  "kernelspec": {
   "display_name": "base",
   "language": "python",
   "name": "python3"
  },
  "language_info": {
   "codemirror_mode": {
    "name": "ipython",
    "version": 3
   },
   "file_extension": ".py",
   "mimetype": "text/x-python",
   "name": "python",
   "nbconvert_exporter": "python",
   "pygments_lexer": "ipython3",
   "version": "3.12.7"
  }
 },
 "nbformat": 4,
 "nbformat_minor": 5
}
