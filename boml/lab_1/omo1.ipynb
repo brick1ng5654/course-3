{
 "cells": [
  {
   "cell_type": "markdown",
   "id": "4413323f",
   "metadata": {},
   "source": [
    "Здесь идет добавление всех нужных библиотек и команд"
   ]
  },
  {
   "cell_type": "code",
   "execution_count": 14,
   "id": "2283d80e",
   "metadata": {},
   "outputs": [
    {
     "name": "stdout",
     "output_type": "stream",
     "text": [
      "Setup Complite\n"
     ]
    }
   ],
   "source": [
    "import pandas as pd\n",
    "import matplotlib.pyplot as plt\n",
    "import seaborn as sns\n",
    "from sklearn import preprocessing\n",
    "import numpy as np\n",
    "%matplotlib inline\n",
    "print(\"Setup Complite\")"
   ]
  },
  {
   "cell_type": "code",
   "execution_count": 15,
   "id": "ff13645e",
   "metadata": {},
   "outputs": [],
   "source": [
    "#Path of the file to read\n",
    "filepath = \"health_lifestyle_classification.csv\"\n",
    "#Read the file into a variable df\n",
    "df = pd.read_csv(filepath)\n"
   ]
  },
  {
   "cell_type": "markdown",
   "id": "b934775d",
   "metadata": {},
   "source": [
    "В переменной filepath хранится путь до датасета. В переменной insurance_data хранится дата фрейм по нашему датасету"
   ]
  },
  {
   "cell_type": "code",
   "execution_count": 18,
   "id": "38859056",
   "metadata": {},
   "outputs": [
    {
     "ename": "KeyError",
     "evalue": "\"['screen_time'] not found in axis\"",
     "output_type": "error",
     "traceback": [
      "\u001b[1;31m---------------------------------------------------------------------------\u001b[0m",
      "\u001b[1;31mKeyError\u001b[0m                                  Traceback (most recent call last)",
      "Cell \u001b[1;32mIn[18], line 26\u001b[0m\n\u001b[0;32m      1\u001b[0m delete_columns \u001b[38;5;241m=\u001b[39m [\n\u001b[0;32m      2\u001b[0m     \u001b[38;5;124m'\u001b[39m\u001b[38;5;124mscreen_time\u001b[39m\u001b[38;5;124m'\u001b[39m,\n\u001b[0;32m      3\u001b[0m     \u001b[38;5;124m'\u001b[39m\u001b[38;5;124mfamily_history\u001b[39m\u001b[38;5;124m'\u001b[39m,\n\u001b[1;32m   (...)\u001b[0m\n\u001b[0;32m     22\u001b[0m     \u001b[38;5;124m'\u001b[39m\u001b[38;5;124mdaily_supplement_dosage\u001b[39m\u001b[38;5;124m'\u001b[39m\n\u001b[0;32m     23\u001b[0m ]\n\u001b[0;32m     25\u001b[0m \u001b[38;5;28;01mfor\u001b[39;00m column \u001b[38;5;129;01min\u001b[39;00m delete_columns:\n\u001b[1;32m---> 26\u001b[0m     df \u001b[38;5;241m=\u001b[39m df\u001b[38;5;241m.\u001b[39mdrop(column, axis\u001b[38;5;241m=\u001b[39m\u001b[38;5;241m1\u001b[39m)\n",
      "File \u001b[1;32mc:\\ProgramData\\anaconda3\\Lib\\site-packages\\pandas\\core\\frame.py:5581\u001b[0m, in \u001b[0;36mDataFrame.drop\u001b[1;34m(self, labels, axis, index, columns, level, inplace, errors)\u001b[0m\n\u001b[0;32m   5433\u001b[0m \u001b[38;5;28;01mdef\u001b[39;00m \u001b[38;5;21mdrop\u001b[39m(\n\u001b[0;32m   5434\u001b[0m     \u001b[38;5;28mself\u001b[39m,\n\u001b[0;32m   5435\u001b[0m     labels: IndexLabel \u001b[38;5;241m|\u001b[39m \u001b[38;5;28;01mNone\u001b[39;00m \u001b[38;5;241m=\u001b[39m \u001b[38;5;28;01mNone\u001b[39;00m,\n\u001b[1;32m   (...)\u001b[0m\n\u001b[0;32m   5442\u001b[0m     errors: IgnoreRaise \u001b[38;5;241m=\u001b[39m \u001b[38;5;124m\"\u001b[39m\u001b[38;5;124mraise\u001b[39m\u001b[38;5;124m\"\u001b[39m,\n\u001b[0;32m   5443\u001b[0m ) \u001b[38;5;241m-\u001b[39m\u001b[38;5;241m>\u001b[39m DataFrame \u001b[38;5;241m|\u001b[39m \u001b[38;5;28;01mNone\u001b[39;00m:\n\u001b[0;32m   5444\u001b[0m \u001b[38;5;250m    \u001b[39m\u001b[38;5;124;03m\"\"\"\u001b[39;00m\n\u001b[0;32m   5445\u001b[0m \u001b[38;5;124;03m    Drop specified labels from rows or columns.\u001b[39;00m\n\u001b[0;32m   5446\u001b[0m \n\u001b[1;32m   (...)\u001b[0m\n\u001b[0;32m   5579\u001b[0m \u001b[38;5;124;03m            weight  1.0     0.8\u001b[39;00m\n\u001b[0;32m   5580\u001b[0m \u001b[38;5;124;03m    \"\"\"\u001b[39;00m\n\u001b[1;32m-> 5581\u001b[0m     \u001b[38;5;28;01mreturn\u001b[39;00m \u001b[38;5;28msuper\u001b[39m()\u001b[38;5;241m.\u001b[39mdrop(\n\u001b[0;32m   5582\u001b[0m         labels\u001b[38;5;241m=\u001b[39mlabels,\n\u001b[0;32m   5583\u001b[0m         axis\u001b[38;5;241m=\u001b[39maxis,\n\u001b[0;32m   5584\u001b[0m         index\u001b[38;5;241m=\u001b[39mindex,\n\u001b[0;32m   5585\u001b[0m         columns\u001b[38;5;241m=\u001b[39mcolumns,\n\u001b[0;32m   5586\u001b[0m         level\u001b[38;5;241m=\u001b[39mlevel,\n\u001b[0;32m   5587\u001b[0m         inplace\u001b[38;5;241m=\u001b[39minplace,\n\u001b[0;32m   5588\u001b[0m         errors\u001b[38;5;241m=\u001b[39merrors,\n\u001b[0;32m   5589\u001b[0m     )\n",
      "File \u001b[1;32mc:\\ProgramData\\anaconda3\\Lib\\site-packages\\pandas\\core\\generic.py:4788\u001b[0m, in \u001b[0;36mNDFrame.drop\u001b[1;34m(self, labels, axis, index, columns, level, inplace, errors)\u001b[0m\n\u001b[0;32m   4786\u001b[0m \u001b[38;5;28;01mfor\u001b[39;00m axis, labels \u001b[38;5;129;01min\u001b[39;00m axes\u001b[38;5;241m.\u001b[39mitems():\n\u001b[0;32m   4787\u001b[0m     \u001b[38;5;28;01mif\u001b[39;00m labels \u001b[38;5;129;01mis\u001b[39;00m \u001b[38;5;129;01mnot\u001b[39;00m \u001b[38;5;28;01mNone\u001b[39;00m:\n\u001b[1;32m-> 4788\u001b[0m         obj \u001b[38;5;241m=\u001b[39m obj\u001b[38;5;241m.\u001b[39m_drop_axis(labels, axis, level\u001b[38;5;241m=\u001b[39mlevel, errors\u001b[38;5;241m=\u001b[39merrors)\n\u001b[0;32m   4790\u001b[0m \u001b[38;5;28;01mif\u001b[39;00m inplace:\n\u001b[0;32m   4791\u001b[0m     \u001b[38;5;28mself\u001b[39m\u001b[38;5;241m.\u001b[39m_update_inplace(obj)\n",
      "File \u001b[1;32mc:\\ProgramData\\anaconda3\\Lib\\site-packages\\pandas\\core\\generic.py:4830\u001b[0m, in \u001b[0;36mNDFrame._drop_axis\u001b[1;34m(self, labels, axis, level, errors, only_slice)\u001b[0m\n\u001b[0;32m   4828\u001b[0m         new_axis \u001b[38;5;241m=\u001b[39m axis\u001b[38;5;241m.\u001b[39mdrop(labels, level\u001b[38;5;241m=\u001b[39mlevel, errors\u001b[38;5;241m=\u001b[39merrors)\n\u001b[0;32m   4829\u001b[0m     \u001b[38;5;28;01melse\u001b[39;00m:\n\u001b[1;32m-> 4830\u001b[0m         new_axis \u001b[38;5;241m=\u001b[39m axis\u001b[38;5;241m.\u001b[39mdrop(labels, errors\u001b[38;5;241m=\u001b[39merrors)\n\u001b[0;32m   4831\u001b[0m     indexer \u001b[38;5;241m=\u001b[39m axis\u001b[38;5;241m.\u001b[39mget_indexer(new_axis)\n\u001b[0;32m   4833\u001b[0m \u001b[38;5;66;03m# Case for non-unique axis\u001b[39;00m\n\u001b[0;32m   4834\u001b[0m \u001b[38;5;28;01melse\u001b[39;00m:\n",
      "File \u001b[1;32mc:\\ProgramData\\anaconda3\\Lib\\site-packages\\pandas\\core\\indexes\\base.py:7070\u001b[0m, in \u001b[0;36mIndex.drop\u001b[1;34m(self, labels, errors)\u001b[0m\n\u001b[0;32m   7068\u001b[0m \u001b[38;5;28;01mif\u001b[39;00m mask\u001b[38;5;241m.\u001b[39many():\n\u001b[0;32m   7069\u001b[0m     \u001b[38;5;28;01mif\u001b[39;00m errors \u001b[38;5;241m!=\u001b[39m \u001b[38;5;124m\"\u001b[39m\u001b[38;5;124mignore\u001b[39m\u001b[38;5;124m\"\u001b[39m:\n\u001b[1;32m-> 7070\u001b[0m         \u001b[38;5;28;01mraise\u001b[39;00m \u001b[38;5;167;01mKeyError\u001b[39;00m(\u001b[38;5;124mf\u001b[39m\u001b[38;5;124m\"\u001b[39m\u001b[38;5;132;01m{\u001b[39;00mlabels[mask]\u001b[38;5;241m.\u001b[39mtolist()\u001b[38;5;132;01m}\u001b[39;00m\u001b[38;5;124m not found in axis\u001b[39m\u001b[38;5;124m\"\u001b[39m)\n\u001b[0;32m   7071\u001b[0m     indexer \u001b[38;5;241m=\u001b[39m indexer[\u001b[38;5;241m~\u001b[39mmask]\n\u001b[0;32m   7072\u001b[0m \u001b[38;5;28;01mreturn\u001b[39;00m \u001b[38;5;28mself\u001b[39m\u001b[38;5;241m.\u001b[39mdelete(indexer)\n",
      "\u001b[1;31mKeyError\u001b[0m: \"['screen_time'] not found in axis\""
     ]
    }
   ],
   "source": [
    "delete_columns = [\n",
    "    'screen_time',\n",
    "    'family_history',\n",
    "    'mental_health_score',\n",
    "    'occupation',\n",
    "    'mental_health_support',\n",
    "    'device_usage',\n",
    "    'healthcare_access',\n",
    "    'insurance',\n",
    "    'pet_owner',\n",
    "    'height',\n",
    "    'weight',\n",
    "    'waist_size',\n",
    "    'bmi',\n",
    "    'physical_activity',\n",
    "    'education_level',\n",
    "    'job_type',\n",
    "    'income',\n",
    "    'electrolyte_level',\n",
    "    'gene_marker_flag',\n",
    "    'environmental_risk_score',\n",
    "    'daily_supplement_dosage'\n",
    "]\n",
    "\n",
    "for column in delete_columns:\n",
    "    df = df.drop(column, axis=1)"
   ]
  },
  {
   "cell_type": "markdown",
   "id": "c08e9f80",
   "metadata": {},
   "source": [
    "\n",
    "\n",
    "В датасете более 100+ тысяч строк и 41 признак. Выберем необходимое и отсеем лишнее.\n",
    "\n",
    "Целевым признаком для предсказания будет target (Бинарная классификация): healthy (здоров) / diseased (болен)\n",
    "\n",
    "Из числовых признаков возьмём:\n",
    "- age (Возраст)\n",
    "- bmi (Индекс массы тела)\n",
    "- blood pressure\n",
    "- cholesterol\n",
    "- glucose\n",
    "- insulin\n",
    "- calorie intake\n",
    "- sugar intake\n",
    "- water intake\n",
    "- stress level\n",
    "- heart rate\n",
    "- sleep hours\n",
    "- work hours\n",
    "- daily steps\n",
    "\n",
    "Из категориальных признаков возьмём:\n",
    "- gender\n",
    "- diet type\n",
    "- sleep quality\n",
    "- sunlight exposure\n",
    "- caffeine intake\n",
    "- exercise type\n",
    "- meals per day\n",
    "- alchohol consumption\n",
    "- smoking level\n",
    "\n",
    "Таким образом были убраны следующие признаки:\n",
    "- screen time\n",
    "- family history\n",
    "- mental health score\n",
    "- occupation\n",
    "- mental health support\n",
    "- device usage\n",
    "- healthcare access\n",
    "- insurance\n",
    "- pet owner\n",
    "- height\n",
    "- weight\n",
    "- waist size\n",
    "- bmi ?*\n",
    "- physical activity\n",
    "- education level\n",
    "- job type\n",
    "- income\n",
    "- electrolyte level\n",
    "- gene marker flag\n",
    "- enviromnent risk score\n",
    "- daily supplement dosage\n"
   ]
  },
  {
   "cell_type": "code",
   "execution_count": 17,
   "id": "94b1986c",
   "metadata": {},
   "outputs": [],
   "source": [
    "for column in df.columns:\n",
    "    if (df[column].dtype == \"int64\" or df[column].dtype == \"float64\"):\n",
    "        median = df[column].median()\n",
    "        df[column] = df[column].fillna(median)\n",
    "    else:\n",
    "        df = df.dropna(subset=[column])"
   ]
  },
  {
   "cell_type": "markdown",
   "id": "030b054e",
   "metadata": {},
   "source": [
    "Здесь происходит отчищение, то есть если столбец с числовыми значениями, то мы заменяем пропуски на медиану всего столбца. Если качественный значения - удаляем."
   ]
  },
  {
   "cell_type": "code",
   "execution_count": 10,
   "id": "280a9731",
   "metadata": {},
   "outputs": [],
   "source": [
    "def normalize_object_data(series):\n",
    "    frequency_mapping = {\n",
    "        \"Male\": 0,\n",
    "        \"Female\": 1,\n",
    "        \"Poor\": 0,\n",
    "        \"Fair\": 1,\n",
    "        \"Good\": 2,\n",
    "        \"Excellent\": 3,\n",
    "        \"Occasionally\": 0,\n",
    "        \"Regularly\": 1,\n",
    "        \"Non-smoker\": 0,\n",
    "        \"Light\": 1,\n",
    "        \"Heavy\": 2,\n",
    "        \"No\": 0,\n",
    "        \"Yes\": 1,\n",
    "        \"High School\": 0,\n",
    "        \"Bachelor\": 1,\n",
    "        \"Master\": 2,\n",
    "        \"PhD\": 3,\n",
    "        \"Tech\": 0,\n",
    "        \"Office\": 1,\n",
    "        \"Labor\": 2,\n",
    "        \"Unemployed\": 3,\n",
    "        \"Service\": 4,\n",
    "        \"Healthcare\": 5,\n",
    "        \"Vegan\": 0,\n",
    "        \"Vegetarian\": 1,\n",
    "        \"Omnivore\": 2,\n",
    "        \"Keto\": 3,\n",
    "        \"Strength\": 0,\n",
    "        \"Cardio\": 1,\n",
    "        \"Mixed\": 2,\n",
    "        \"Low\": 0,\n",
    "        \"Moderate\": 1,\n",
    "        \"High\": 2,\n",
    "        \"diseased\": 0,\n",
    "        \"healthy\": 1\n",
    "    }\n",
    "    series = series.map(frequency_mapping)\n",
    "    return series"
   ]
  },
  {
   "cell_type": "markdown",
   "id": "f8869c63",
   "metadata": {},
   "source": [
    "Это функция, которая позволяет нормализовать качественные значения, то есть Все значения в столбце меняются на 0, 1"
   ]
  },
  {
   "cell_type": "code",
   "execution_count": null,
   "id": "abfee237",
   "metadata": {},
   "outputs": [],
   "source": [
    "#Normalization of Data Frame\n",
    "array_normalize = []\n",
    "for column in df.columns:\n",
    "    if (df[column].dtype == \"int64\" or df[column].dtype == \"float64\"):\n",
    "        array = np.array(df[column])\n",
    "        normalize_arr = preprocessing.normalize([array])\n",
    "        array_normalize.append(normalize_arr[0])\n",
    "    else:\n",
    "        normalize_column = normalize_object_data(df[column])\n",
    "        normalize_arr = np.array(normalize_column)\n",
    "        array_normalize.append(normalize_arr)\n"
   ]
  },
  {
   "cell_type": "markdown",
   "id": "f3813fd0",
   "metadata": {},
   "source": [
    "Здесь соответсвенно идет нормализация всех данных в Data Frame, числовые - с помощью preprocessing.normalize, а качественные через предыдущую функцию"
   ]
  },
  {
   "cell_type": "code",
   "execution_count": null,
   "id": "25bde530",
   "metadata": {},
   "outputs": [],
   "source": [
    "#Delete dublicates\n",
    "df_final = pd.DataFrame(array_normalize)\n",
    "df_final = df_final.T\n",
    "#insurance_data_unique = insurance_data.drop_duplicates()\n",
    "df_final = df_final.drop_duplicates()\n",
    "df_final.columns = df.columns\n"
   ]
  },
  {
   "cell_type": "markdown",
   "id": "c7f83988",
   "metadata": {},
   "source": [
    "Поскольку мы сохранили нормализованные данные в двумерный массив, то теперь мы из него делаем обратно Data Frame, транспонируем таблицу(чтобы столбцы и строки были на своих местах а не наоборот), удаляем дубликаты. Также меняем названия столбцов на исходные."
   ]
  },
  {
   "cell_type": "code",
   "execution_count": 13,
   "id": "4b65d849",
   "metadata": {},
   "outputs": [],
   "source": [
    "#Diagram\n",
    "# plt.figure(figsize=(10, 7))\n",
    "# plt.scatter()"
   ]
  },
  {
   "cell_type": "code",
   "execution_count": null,
   "id": "4159f743",
   "metadata": {},
   "outputs": [],
   "source": []
  },
  {
   "cell_type": "code",
   "execution_count": null,
   "id": "c3ff0d1d",
   "metadata": {},
   "outputs": [],
   "source": []
  }
 ],
 "metadata": {
  "kernelspec": {
   "display_name": "base",
   "language": "python",
   "name": "python3"
  },
  "language_info": {
   "codemirror_mode": {
    "name": "ipython",
    "version": 3
   },
   "file_extension": ".py",
   "mimetype": "text/x-python",
   "name": "python",
   "nbconvert_exporter": "python",
   "pygments_lexer": "ipython3",
   "version": "3.12.7"
  }
 },
 "nbformat": 4,
 "nbformat_minor": 5
}
