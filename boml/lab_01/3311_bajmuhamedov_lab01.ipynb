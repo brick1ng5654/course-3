{
 "cells": [
  {
   "cell_type": "markdown",
   "id": "14a78056",
   "metadata": {},
   "source": [
    "Лабораторная работа №1 по дисциплине \"Основы машинного обучения\"\n",
    "\n",
    "Выполнил cтудент группы 3311 Баймухамедов Рафаэль Русланович"
   ]
  }
 ],
 "metadata": {
  "language_info": {
   "name": "python"
  }
 },
 "nbformat": 4,
 "nbformat_minor": 5
}
