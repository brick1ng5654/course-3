{
 "cells": [
  {
   "cell_type": "markdown",
   "id": "14a78056",
   "metadata": {},
   "source": [
    "Лабораторная работа №1 по дисциплине \"Основы машинного обучения\"\n",
    "\n",
    "Выполнил cтудент группы 3311 Баймухамедов Рафаэль Русланович"
   ]
  },
  {
   "cell_type": "markdown",
   "id": "29a878cf",
   "metadata": {},
   "source": [
    "Скачаем датасет"
   ]
  },
  {
   "cell_type": "code",
   "execution_count": null,
   "id": "403eb981",
   "metadata": {
    "vscode": {
     "languageId": "plaintext"
    }
   },
   "outputs": [],
   "source": [
    "from pathlib import Path\n",
    "import requests\n",
    "import pandas as pd\n",
    "\n",
    "RAW_URL = \"https://raw.githubusercontent.com/brick1ng5654/course-3/RafaelB/boml/lab_01/health_lifestyle_classification.csv\"\n",
    "DEST = Path(\"/content/data/health_lifestyle_classification.csv\")\n",
    "DEST.parent.mkdir(parents=True, exist_ok=True)\n",
    "\n",
    "r = requests.get(RAW_URL, timeout=60)\n",
    "r.raise_for_status()\n",
    "\n",
    "DEST.write_bytes(r.content)\n",
    "print(f\"Saved to {DEST} ({DEST.stat().st_size/1_000_000:.2f} MB)\")\n"
   ]
  },
  {
   "cell_type": "markdown",
   "id": "4689f855",
   "metadata": {},
   "source": [
    "В датасете более 100+ тысяч строк и 41 признак. Выберем необходимое и отсеем лишнее.\n",
    "\n",
    "Целевым признаком для предсказания будет target (Бинарная классификация): healthy (здоров) / diseased (болен). Важное уточнение, что данное понятие достаточно расплывчатое.\n",
    "\n",
    "Из числовых признаков возьмём:\n",
    "- age (Возраст)\n",
    "- bmi (Индекс массы тела)\n",
    "- blood pressure (Артериальное давление)\n",
    "- calorie intake (Потребление калорий)\n",
    "- cholesterol (Холестерин)\n",
    "- daily steps (Ежедневное количество шагов)\n",
    "- glucose (Глюкоза)\n",
    "- heart rate (Пульс)\n",
    "- insulin (Инсулин)\n",
    "- sleep hours (Количество часов сна)\n",
    "- stress level (Заявленный уровень стресса)\n",
    "- sugar intake (Потреблнение сахара)\n",
    "- water intake (Потребление воды)\n",
    "- work hours (Количество часов работы)\n",
    "\n",
    "Из категориальных признаков возьмём:\n",
    "- alchohol consumption (Потребление алкоголя)\n",
    "- caffeine intake (Потребление кофеина)\n",
    "- diet type (Тип диенты: веганский, вегетаринский, всеядный, кето, палео)\n",
    "- exercise type (Тип тренировок)\n",
    "- gender (Пол)\n",
    "- meals per day (Количество приёмов пищи в день)\n",
    "- sleep quality (Качество сна)\n",
    "- smoking level (Потребление сигарет)\n",
    "- sunlight exposure (Ежедневное воздействие солнечного света)\n",
    "\n",
    "Таким образом были убраны следующие признаки:\n",
    "- bmi ?* (В виду взятия признака bmi, вслесдствие чего остальные показатели bmi не нужны)\n",
    "- daily supplement dosage (В виду не до конца понятной классификации)\n",
    "- device usage (В виду наименьшего влияния на результат заболевания)\n",
    "- education level (В виду наименьшего влияния на результат заболевания)\n",
    "- electrolyte level (В виду бесполезности признака, т.к. все строки одинаковые)\n",
    "- enviromnent risk score (В виду бесполезности признака, т.к. все строки одинаковые)\n",
    "- family history (В виду не до конца понятной бинарной классификации)\n",
    "- gene marker flag (В виду бесполнезности признака, т.к. все строки одинаковые)\n",
    "- healthcare access (В виду наименьшего влияния на результат заболевания)\n",
    "- height (В виду ненужности признака из-за наличия признака bmi)\n",
    "- income ((В виду наименьшего влияния на результат заболевания)\n",
    "- insurance (В виду наименьшего влияния на результат заболевания)\n",
    "- job type ((В виду наименьшего влияния на результат заболевания)\n",
    "- mental health score (В виду схожести с заявленным уровнем стресса)\n",
    "- mental health support (В виду наименьшего влияния на результат заболевания)\n",
    "- occupation (В виду наименьшего влияния на результат заболевания)\n",
    "- pet owner (В виду наименьшего влияния на результат заболевания)\n",
    "- physical activity (В виду не до конца понятного получения значения признака)\n",
    "- screen time (В виду наименьшего влияния на результат заболевания)\n",
    "- waist size (В виду наименьшего влияния на результат заболевания)\n",
    "- weight (В виду ненужности признака из-за наличия признака bmi)"
   ]
  },
  {
   "cell_type": "markdown",
   "id": "25716f48",
   "metadata": {},
   "source": [
    "Загрузим библиотеки"
   ]
  },
  {
   "cell_type": "code",
   "execution_count": null,
   "id": "d0de9321",
   "metadata": {
    "vscode": {
     "languageId": "plaintext"
    }
   },
   "outputs": [],
   "source": [
    "import pandas as pd\n",
    "pd.plotting.register_matplotlib_converters()\n",
    "import matplotlib.pyplot as plt\n",
    "%matplotlib inline\n",
    "import seaborn as sns\n",
    "print(\"Setup Complete\")"
   ]
  },
  {
   "cell_type": "markdown",
   "id": "26c10444",
   "metadata": {},
   "source": [
    "Загрузка датасета"
   ]
  },
  {
   "cell_type": "code",
   "execution_count": null,
   "id": "7cf4f164",
   "metadata": {
    "vscode": {
     "languageId": "plaintext"
    }
   },
   "outputs": [],
   "source": [
    "filepath = \"/content/health_lifestyle_classification.csv\"\n",
    "\n",
    "df = pd.read_csv(filepath)"
   ]
  },
  {
   "cell_type": "markdown",
   "id": "32c85630",
   "metadata": {},
   "source": [
    "Удалим лишние признаки"
   ]
  }
 ],
 "metadata": {
  "language_info": {
   "name": "python"
  }
 },
 "nbformat": 4,
 "nbformat_minor": 5
}
