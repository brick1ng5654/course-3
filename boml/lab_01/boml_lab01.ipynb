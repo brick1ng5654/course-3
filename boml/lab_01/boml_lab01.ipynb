{
 "cells": [
  {
   "cell_type": "markdown",
   "id": "14a78056",
   "metadata": {},
   "source": [
    "Лабораторная работа №1 по дисциплине \"Основы машинного обучения\"\n",
    "\n",
    "Выполнили cтуденты группы 3311 \n",
    "- Аршин Александр\n",
    "- Баймухамедов Рафаэль\n",
    "- Пасечный Леонид"
   ]
  },
  {
   "cell_type": "markdown",
   "id": "106e592d",
   "metadata": {},
   "source": [
    "Требования:\n",
    "- Число столбцов признаков – не менее 10;\n",
    "- Число записей – не менее 10000;\n",
    "- Набор данных имеет пропуски.\n",
    "\n",
    "Задачи:\n",
    "- Очистка данных (удаление пропусков, нормализация, удаление дубликатов)\n",
    "- Визуализация значимых признаков\n",
    "- Диаграммы рассеяния\n",
    "- Ящики с усами\n",
    "- Гистограммы\n",
    "- Корреляция данных (матрица корреляций)"
   ]
  },
  {
   "cell_type": "markdown",
   "id": "29a878cf",
   "metadata": {},
   "source": [
    "Скачаем датасет"
   ]
  },
  {
   "cell_type": "code",
   "execution_count": null,
   "id": "403eb981",
   "metadata": {
    "vscode": {
     "languageId": "plaintext"
    }
   },
   "outputs": [],
   "source": [
    "from pathlib import Path\n",
    "import requests\n",
    "import pandas as pd\n",
    "\n",
    "RAW_URL = \"https://raw.githubusercontent.com/brick1ng5654/course-3/RafaelB/boml/lab_01/health_lifestyle_classification.csv\"\n",
    "DEST = Path(\"/content/data/health_lifestyle_classification.csv\")\n",
    "DEST.parent.mkdir(parents=True, exist_ok=True)\n",
    "\n",
    "r = requests.get(RAW_URL, timeout=60)\n",
    "r.raise_for_status()\n",
    "\n",
    "DEST.write_bytes(r.content)\n",
    "print(f\"Saved to {DEST} ({DEST.stat().st_size/1_000_000:.2f} MB)\")"
   ]
  },
  {
   "cell_type": "markdown",
   "id": "4689f855",
   "metadata": {},
   "source": [
    "В датасете более 100+ тысяч строк и 41 признак. Выберем необходимое и отсеем лишнее.\n",
    "\n",
    "Целевым признаком для предсказания будет target (Бинарная классификация): healthy (здоров) / diseased (болен). Важное уточнение, что данное понятие достаточно расплывчатое.\n",
    "\n",
    "Из числовых признаков возьмём:\n",
    "- age (Возраст)\n",
    "- bmi (Индекс массы тела)\n",
    "- blood pressure (Артериальное давление)\n",
    "- calorie intake (Потребление калорий)\n",
    "- cholesterol (Холестерин)\n",
    "- daily steps (Ежедневное количество шагов)\n",
    "- glucose (Глюкоза)\n",
    "- heart rate (Пульс)\n",
    "- insulin (Инсулин)\n",
    "- sleep hours (Количество часов сна)\n",
    "- stress level (Заявленный уровень стресса)\n",
    "- sugar intake (Потреблнение сахара)\n",
    "- water intake (Потребление воды)\n",
    "- work hours (Количество часов работы)\n",
    "\n",
    "Из категориальных признаков возьмём:\n",
    "- alchohol consumption (Потребление алкоголя)\n",
    "- caffeine intake (Потребление кофеина)\n",
    "- diet type (Тип диенты: веганский, вегетаринский, всеядный, кето, палео)\n",
    "- exercise type (Тип тренировок)\n",
    "- gender (Пол)\n",
    "- meals per day (Количество приёмов пищи в день)\n",
    "- sleep quality (Качество сна)\n",
    "- smoking level (Потребление сигарет)\n",
    "- sunlight exposure (Ежедневное воздействие солнечного света)\n",
    "\n",
    "Таким образом были убраны следующие признаки:\n",
    "- bmi ?* (В виду взятия признака bmi, вслесдствие чего остальные показатели bmi не нужны)\n",
    "- daily supplement dosage (В виду не до конца понятной классификации)\n",
    "- device usage (В виду наименьшего влияния на результат заболевания)\n",
    "- education level (В виду наименьшего влияния на результат заболевания)\n",
    "- electrolyte level (В виду бесполезности признака, т.к. все строки одинаковые)\n",
    "- enviromnent risk score (В виду бесполезности признака, т.к. все строки одинаковые)\n",
    "- family history (В виду не до конца понятной бинарной классификации)\n",
    "- gene marker flag (В виду бесполнезности признака, т.к. все строки одинаковые)\n",
    "- healthcare access (В виду наименьшего влияния на результат заболевания)\n",
    "- height (В виду ненужности признака из-за наличия признака bmi)\n",
    "- income ((В виду наименьшего влияния на результат заболевания)\n",
    "- insurance (В виду наименьшего влияния на результат заболевания)\n",
    "- job type ((В виду наименьшего влияния на результат заболевания)\n",
    "- mental health score (В виду схожести с заявленным уровнем стресса)\n",
    "- mental health support (В виду наименьшего влияния на результат заболевания)\n",
    "- occupation (В виду наименьшего влияния на результат заболевания)\n",
    "- pet owner (В виду наименьшего влияния на результат заболевания)\n",
    "- physical activity (В виду не до конца понятного получения значения признака)\n",
    "- screen time (В виду наименьшего влияния на результат заболевания)\n",
    "- waist size (В виду наименьшего влияния на результат заболевания)\n",
    "- weight (В виду ненужности признака из-за наличия признака bmi)"
   ]
  },
  {
   "cell_type": "markdown",
   "id": "25716f48",
   "metadata": {},
   "source": [
    "Загрузим библиотеки"
   ]
  },
  {
   "cell_type": "code",
   "execution_count": null,
   "id": "d0de9321",
   "metadata": {
    "vscode": {
     "languageId": "plaintext"
    }
   },
   "outputs": [],
   "source": [
    "import pandas as pd\n",
    "pd.plotting.register_matplotlib_converters()\n",
    "import matplotlib.pyplot as plt\n",
    "%matplotlib inline\n",
    "import seaborn as sns\n",
    "print(\"Setup Complete\")"
   ]
  },
  {
   "cell_type": "markdown",
   "id": "26c10444",
   "metadata": {},
   "source": [
    "Загрузка датасета"
   ]
  },
  {
   "cell_type": "code",
   "execution_count": null,
   "id": "7cf4f164",
   "metadata": {
    "vscode": {
     "languageId": "plaintext"
    }
   },
   "outputs": [],
   "source": [
    "filepath = \"/content/data/health_lifestyle_classification.csv\"\n",
    "\n",
    "df = pd.read_csv(filepath)"
   ]
  },
  {
   "cell_type": "markdown",
   "id": "32c85630",
   "metadata": {},
   "source": [
    "В переменной filepath хранится путь до датасета. В переменной df хранится dataframe по нашему датасету\n",
    "\n",
    "Удалим лишние признаки"
   ]
  },
  {
   "cell_type": "code",
   "execution_count": null,
   "id": "accd883c",
   "metadata": {
    "vscode": {
     "languageId": "plaintext"
    }
   },
   "outputs": [],
   "source": [
    "delete_columns = [\n",
    "    'screen_time',\n",
    "    'family_history',\n",
    "    'mental_health_score',\n",
    "    'occupation',\n",
    "    'mental_health_support',\n",
    "    'device_usage',\n",
    "    'healthcare_access',\n",
    "    'insurance',\n",
    "    'pet_owner',\n",
    "    'height',\n",
    "    'weight',\n",
    "    'waist_size',\n",
    "    'bmi',\n",
    "    'physical_activity',\n",
    "    'education_level',\n",
    "    'job_type',\n",
    "    'income',\n",
    "    'electrolyte_level',\n",
    "    'gene_marker_flag',\n",
    "    'environmental_risk_score',\n",
    "    'daily_supplement_dosage'\n",
    "]\n",
    "\n",
    "df = df.drop(columns=delete_columns)"
   ]
  },
  {
   "cell_type": "markdown",
   "id": "ce495dd2",
   "metadata": {},
   "source": [
    "Посмотрим типы столбцов"
   ]
  },
  {
   "cell_type": "code",
   "execution_count": null,
   "id": "216b41f6",
   "metadata": {
    "vscode": {
     "languageId": "plaintext"
    }
   },
   "outputs": [],
   "source": [
    "df.info()"
   ]
  },
  {
   "cell_type": "markdown",
   "id": "f327045d",
   "metadata": {},
   "source": [
    "Посмотрим пустые значения столбцов"
   ]
  },
  {
   "cell_type": "code",
   "execution_count": null,
   "id": "e96f9ec7",
   "metadata": {
    "vscode": {
     "languageId": "plaintext"
    }
   },
   "outputs": [],
   "source": [
    "df.isna().sum()"
   ]
  },
  {
   "cell_type": "markdown",
   "id": "f4077f49",
   "metadata": {},
   "source": [
    "все требования к лабораторной работе выполнены.\n",
    "- [x] Число столбцов признаков - не менее 10 \n",
    "- [x] Число записей - не менее 10000\n",
    "- [x] Набор данных имеет пропуски\n",
    "\n",
    "Очистим столбцы с пустыми категориальными признаками"
   ]
  },
  {
   "cell_type": "code",
   "execution_count": null,
   "id": "8a6687cb",
   "metadata": {
    "vscode": {
     "languageId": "plaintext"
    }
   },
   "outputs": [],
   "source": [
    "for column in df.columns:\n",
    "    if df[column].dtype not in ('int64', 'float64'):\n",
    "        df = df.dropna(subset=[column])"
   ]
  },
  {
   "cell_type": "markdown",
   "id": "bb9e8ac3",
   "metadata": {},
   "source": [
    "Заполним медианой строки с пустыми численными признаками"
   ]
  },
  {
   "cell_type": "code",
   "execution_count": null,
   "id": "fedcb111",
   "metadata": {
    "vscode": {
     "languageId": "plaintext"
    }
   },
   "outputs": [],
   "source": [
    "for col in df.columns:\n",
    "    if df[col].dtype in ('int64', 'float64'):\n",
    "        df[col] = df[col].fillna(df[col].median())"
   ]
  },
  {
   "cell_type": "markdown",
   "id": "67ee9f3a",
   "metadata": {},
   "source": [
    "Проверим результат"
   ]
  },
  {
   "cell_type": "code",
   "execution_count": null,
   "id": "f7e5bbad",
   "metadata": {
    "vscode": {
     "languageId": "plaintext"
    }
   },
   "outputs": [],
   "source": [
    "df.isna().sum()"
   ]
  },
  {
   "cell_type": "markdown",
   "id": "aeec363b",
   "metadata": {},
   "source": [
    "Всё верно сделано"
   ]
  },
  {
   "cell_type": "code",
   "execution_count": null,
   "id": "e7f5c713",
   "metadata": {
    "vscode": {
     "languageId": "plaintext"
    }
   },
   "outputs": [],
   "source": []
  }
 ],
 "metadata": {
  "language_info": {
   "name": "python"
  }
 },
 "nbformat": 4,
 "nbformat_minor": 5
}
