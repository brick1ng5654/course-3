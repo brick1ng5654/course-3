{
 "cells": [
  {
   "cell_type": "code",
   "execution_count": 34,
   "id": "2283d80e",
   "metadata": {},
   "outputs": [
    {
     "name": "stdout",
     "output_type": "stream",
     "text": [
      "Setup Complite\n"
     ]
    }
   ],
   "source": [
    "import pandas as pd\n",
    "import matplotlib.pyplot as plt\n",
    "import seaborn as sns\n",
    "from sklearn import preprocessing\n",
    "import numpy as np\n",
    "%matplotlib inline\n",
    "print(\"Setup Complite\")"
   ]
  },
  {
   "cell_type": "code",
   "execution_count": 35,
   "id": "6f497955",
   "metadata": {},
   "outputs": [
    {
     "data": {
      "text/plain": [
       "survey_code                     0\n",
       "age                             0\n",
       "gender                          0\n",
       "height                          0\n",
       "weight                          0\n",
       "bmi                             0\n",
       "bmi_estimated                   0\n",
       "bmi_scaled                      0\n",
       "bmi_corrected                   0\n",
       "waist_size                      0\n",
       "blood_pressure               7669\n",
       "heart_rate                  14003\n",
       "cholesterol                     0\n",
       "glucose                         0\n",
       "insulin                     15836\n",
       "sleep_hours                     0\n",
       "sleep_quality                   0\n",
       "work_hours                      0\n",
       "physical_activity               0\n",
       "daily_steps                  8329\n",
       "calorie_intake                  0\n",
       "sugar_intake                    0\n",
       "alcohol_consumption         42387\n",
       "smoking_level                   0\n",
       "water_intake                    0\n",
       "screen_time                     0\n",
       "stress_level                    0\n",
       "mental_health_score             0\n",
       "mental_health_support           0\n",
       "education_level                 0\n",
       "job_type                        0\n",
       "occupation                      0\n",
       "income                       8470\n",
       "diet_type                       0\n",
       "exercise_type               24969\n",
       "device_usage                    0\n",
       "healthcare_access               0\n",
       "insurance                       0\n",
       "sunlight_exposure               0\n",
       "meals_per_day                   0\n",
       "caffeine_intake             33261\n",
       "family_history                  0\n",
       "pet_owner                       0\n",
       "electrolyte_level               0\n",
       "gene_marker_flag            10474\n",
       "environmental_risk_score        0\n",
       "daily_supplement_dosage         0\n",
       "target                          0\n",
       "dtype: int64"
      ]
     },
     "execution_count": 35,
     "metadata": {},
     "output_type": "execute_result"
    }
   ],
   "source": [
    "insurance_data.isna().sum()"
   ]
  },
  {
   "cell_type": "code",
   "execution_count": 47,
   "id": "ff13645e",
   "metadata": {},
   "outputs": [
    {
     "name": "stdout",
     "output_type": "stream",
     "text": [
      "survey_code                   int64\n",
      "age                           int64\n",
      "gender                       object\n",
      "height                      float64\n",
      "weight                      float64\n",
      "bmi                         float64\n",
      "bmi_estimated               float64\n",
      "bmi_scaled                  float64\n",
      "bmi_corrected               float64\n",
      "waist_size                  float64\n",
      "blood_pressure              float64\n",
      "heart_rate                  float64\n",
      "cholesterol                 float64\n",
      "glucose                     float64\n",
      "insulin                     float64\n",
      "sleep_hours                 float64\n",
      "sleep_quality                object\n",
      "work_hours                  float64\n",
      "physical_activity           float64\n",
      "daily_steps                 float64\n",
      "calorie_intake              float64\n",
      "sugar_intake                float64\n",
      "alcohol_consumption          object\n",
      "smoking_level                object\n",
      "water_intake                float64\n",
      "screen_time                 float64\n",
      "stress_level                  int64\n",
      "mental_health_score           int64\n",
      "mental_health_support        object\n",
      "education_level              object\n",
      "job_type                     object\n",
      "occupation                   object\n",
      "income                      float64\n",
      "diet_type                    object\n",
      "exercise_type                object\n",
      "device_usage                 object\n",
      "healthcare_access            object\n",
      "insurance                    object\n",
      "sunlight_exposure            object\n",
      "meals_per_day                 int64\n",
      "caffeine_intake              object\n",
      "family_history               object\n",
      "pet_owner                    object\n",
      "electrolyte_level             int64\n",
      "gene_marker_flag            float64\n",
      "environmental_risk_score    float64\n",
      "daily_supplement_dosage     float64\n",
      "target                       object\n",
      "dtype: object\n"
     ]
    }
   ],
   "source": [
    "#Path of the file to read\n",
    "insurance_filepath = \"archive/health_lifestyle_classification.csv\"\n",
    "#Read the file into a variable insurance_data\n",
    "insurance_data = pd.read_csv(insurance_filepath)\n",
    "\n",
    "print(insurance_data.dtypes)"
   ]
  },
  {
   "cell_type": "code",
   "execution_count": null,
   "id": "4e11d23b",
   "metadata": {},
   "outputs": [],
   "source": [
    "def delete_space_numeric(series):\n",
    "    median = series.median()\n",
    "    "
   ]
  },
  {
   "cell_type": "code",
   "execution_count": 48,
   "id": "94b1986c",
   "metadata": {},
   "outputs": [],
   "source": [
    "\n",
    "# # For float columns\n",
    "# for column in columns:\n",
    "#     median = insurance_data[column].median()\n",
    "#     insurance_data[column] = insurance_data[column].fillna(median)\n",
    "\n",
    "# # For object column we fill by the moda.\n",
    "# moda = insurance_data[\"alcohol_consumption\"].mode()[0]\n",
    "# insurance_data[\"alcohol_consumption\"] = insurance_data[\"alcohol_consumption\"].fillna(moda)\n",
    "\n",
    "for column in insurance_data.columns:\n",
    "    if (insurance_data[column].dtype == \"int64\" or insurance_data[column].dtype == \"float64\"):\n",
    "        median = insurance_data[column].median()\n",
    "        insurance_data[column] = insurance_data[column].fillna(median)\n",
    "    else:\n",
    "        moda = insurance_data[column].mode()[0]\n",
    "        insurance_data[column] = insurance_data[column].fillna(moda)"
   ]
  },
  {
   "cell_type": "code",
   "execution_count": 53,
   "id": "280a9731",
   "metadata": {},
   "outputs": [],
   "source": [
    "def normalize_object_data(series):\n",
    "    pass"
   ]
  },
  {
   "cell_type": "code",
   "execution_count": 54,
   "id": "abfee237",
   "metadata": {},
   "outputs": [],
   "source": [
    "array_normalize = []\n",
    "for column in insurance_data.columns:\n",
    "    if (insurance_data[column].dtype == \"int64\" or insurance_data[column].dtype == \"float64\"):\n",
    "        array = np.array(insurance_data[column])\n",
    "        normalize_arr = preprocessing.normalize([array])\n",
    "        array_normalize.append(normalize_arr)\n",
    "    else:\n",
    "        array = np.array(insurance_data[column])\n",
    "        normalize_arr = normalize_object_data(array)\n",
    "        array_normalize.append(normalize_arr)"
   ]
  },
  {
   "cell_type": "code",
   "execution_count": null,
   "id": "25bde530",
   "metadata": {},
   "outputs": [
    {
     "name": "stdout",
     "output_type": "stream",
     "text": [
      "['Occasionally' 'Regularly']\n"
     ]
    }
   ],
   "source": []
  },
  {
   "cell_type": "code",
   "execution_count": null,
   "id": "01ed5894",
   "metadata": {},
   "outputs": [],
   "source": []
  }
 ],
 "metadata": {
  "kernelspec": {
   "display_name": "base",
   "language": "python",
   "name": "python3"
  },
  "language_info": {
   "codemirror_mode": {
    "name": "ipython",
    "version": 3
   },
   "file_extension": ".py",
   "mimetype": "text/x-python",
   "name": "python",
   "nbconvert_exporter": "python",
   "pygments_lexer": "ipython3",
   "version": "3.12.7"
  }
 },
 "nbformat": 4,
 "nbformat_minor": 5
}
