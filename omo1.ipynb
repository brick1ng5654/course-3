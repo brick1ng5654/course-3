{
 "cells": [
  {
   "cell_type": "markdown",
   "id": "4413323f",
   "metadata": {},
   "source": [
    "Здесь идет добавление всех нужных библиотек и команд"
   ]
  },
  {
   "cell_type": "code",
   "execution_count": 153,
   "id": "2283d80e",
   "metadata": {},
   "outputs": [
    {
     "name": "stdout",
     "output_type": "stream",
     "text": [
      "Setup Complite\n"
     ]
    }
   ],
   "source": [
    "import pandas as pd\n",
    "import matplotlib.pyplot as plt\n",
    "import seaborn as sns\n",
    "from sklearn import preprocessing\n",
    "import numpy as np\n",
    "%matplotlib inline\n",
    "print(\"Setup Complite\")"
   ]
  },
  {
   "cell_type": "code",
   "execution_count": 154,
   "id": "ff13645e",
   "metadata": {},
   "outputs": [],
   "source": [
    "#Path of the file to read\n",
    "insurance_filepath = \"archive/health_lifestyle_classification.csv\"\n",
    "#Read the file into a variable insurance_data\n",
    "insurance_data = pd.read_csv(insurance_filepath)\n"
   ]
  },
  {
   "cell_type": "markdown",
   "id": "b934775d",
   "metadata": {},
   "source": [
    "В переменной insurance_filepath хранится путь до датасета. В переменной insurance_data хранится дата фрейм по нашему датасету"
   ]
  },
  {
   "cell_type": "code",
   "execution_count": null,
   "id": "94b1986c",
   "metadata": {},
   "outputs": [],
   "source": [
    "for column in insurance_data.columns:\n",
    "    if (insurance_data[column].dtype == \"int64\" or insurance_data[column].dtype == \"float64\"):\n",
    "        median = insurance_data[column].median()\n",
    "        insurance_data[column] = insurance_data[column].fillna(median)\n",
    "    else:\n",
    "        insurance_data = insurance_data.dropna(subset=[column])"
   ]
  },
  {
   "cell_type": "markdown",
   "id": "030b054e",
   "metadata": {},
   "source": [
    "Здесь происходит отчищение, то есть если столбец с числовыми значениями, то мы заменяем пропуски на медиану всего столбца. Если качественный значения - удаляем."
   ]
  },
  {
   "cell_type": "code",
   "execution_count": 156,
   "id": "280a9731",
   "metadata": {},
   "outputs": [],
   "source": [
    "def normalize_object_data(series):\n",
    "    frequency_mapping = {\n",
    "        \"Male\": 0,\n",
    "        \"Female\": 1,\n",
    "        \"Poor\": 0,\n",
    "        \"Fair\": 1,\n",
    "        \"Good\": 2,\n",
    "        \"Excellent\": 3,\n",
    "        \"Occasionally\": 0,\n",
    "        \"Regularly\": 1,\n",
    "        \"Non-smoker\": 0,\n",
    "        \"Light\": 1,\n",
    "        \"Heavy\": 2,\n",
    "        \"No\": 0,\n",
    "        \"Yes\": 1,\n",
    "        \"High School\": 0,\n",
    "        \"Bachelor\": 1,\n",
    "        \"Master\": 2,\n",
    "        \"PhD\": 3,\n",
    "        \"Tech\": 0,\n",
    "        \"Office\": 1,\n",
    "        \"Labor\": 2,\n",
    "        \"Unemployed\": 3,\n",
    "        \"Service\": 4,\n",
    "        \"Healthcare\": 5,\n",
    "        \"Farmer\": 0,\n",
    "        \"Engineer\": 1,\n",
    "        \"Teacher\": 2,\n",
    "        \"Doctor\": 3,\n",
    "        \"Driver\": 4,\n",
    "        \"Artist\": 5,\n",
    "        \"Vegan\": 0,\n",
    "        \"Vegetarian\": 1,\n",
    "        \"Omnivore\": 2,\n",
    "        \"Keto\": 3,\n",
    "        \"Strength\": 0,\n",
    "        \"Cardio\": 1,\n",
    "        \"Mixed\": 2,\n",
    "        \"Low\": 0,\n",
    "        \"Moderate\": 1,\n",
    "        \"High\": 2,\n",
    "        \"diseased\": 0,\n",
    "        \"healthy\": 1\n",
    "    }\n",
    "    series = series.map(frequency_mapping)\n",
    "    return series"
   ]
  },
  {
   "cell_type": "markdown",
   "id": "f8869c63",
   "metadata": {},
   "source": [
    "Это функция, которая позволяет нормализовать качественные значения, то есть Все значения в столбце меняются на 0, 1"
   ]
  },
  {
   "cell_type": "code",
   "execution_count": 157,
   "id": "abfee237",
   "metadata": {},
   "outputs": [],
   "source": [
    "#Normalization of Data Frame\n",
    "array_normalize = []\n",
    "insurance_data = insurance_data.drop(\"survey_code\", axis=1)\n",
    "for column in insurance_data.columns:\n",
    "    if (insurance_data[column].dtype == \"int64\" or insurance_data[column].dtype == \"float64\"):\n",
    "        array = np.array(insurance_data[column])\n",
    "        normalize_arr = preprocessing.normalize([array])\n",
    "        array_normalize.append(normalize_arr[0])\n",
    "    else:\n",
    "        normalize_column = normalize_object_data(insurance_data[column])\n",
    "        normalize_arr = np.array(normalize_column)\n",
    "        array_normalize.append(normalize_arr)\n"
   ]
  },
  {
   "cell_type": "markdown",
   "id": "f3813fd0",
   "metadata": {},
   "source": [
    "Здесь соответсвенно идет нормализация всех данных в Data Frame, числовые - с помощью preprocessing.normalize, а качественные через предыдущую функцию"
   ]
  },
  {
   "cell_type": "code",
   "execution_count": 160,
   "id": "25bde530",
   "metadata": {},
   "outputs": [],
   "source": [
    "#Delete dublicates\n",
    "insurance_data_final = pd.DataFrame(array_normalize)\n",
    "insurance_data_final = insurance_data_final.T\n",
    "#insurance_data_unique = insurance_data.drop_duplicates()\n",
    "insurance_data_final = insurance_data_final.drop_duplicates()\n",
    "insurance_data_final.columns = insurance_data.columns\n"
   ]
  },
  {
   "cell_type": "markdown",
   "id": "c7f83988",
   "metadata": {},
   "source": [
    "Поскольку мы сохранили нормализованные данные в двумерный массив, то теперь мы из него делаем обратно Data Frame, транспонируем таблицу(чтобы столбцы и строки были на своих местах а не наоборот), удаляем дубликаты. Также меняем названия столбцов на исходные."
   ]
  },
  {
   "cell_type": "code",
   "execution_count": null,
   "id": "01ed5894",
   "metadata": {},
   "outputs": [],
   "source": []
  },
  {
   "cell_type": "code",
   "execution_count": null,
   "id": "4b65d849",
   "metadata": {},
   "outputs": [],
   "source": [
    "#Diagram\n",
    "plt.figure(figsize=(10, 7))\n",
    "plt.scatter()"
   ]
  }
 ],
 "metadata": {
  "kernelspec": {
   "display_name": "base",
   "language": "python",
   "name": "python3"
  },
  "language_info": {
   "codemirror_mode": {
    "name": "ipython",
    "version": 3
   },
   "file_extension": ".py",
   "mimetype": "text/x-python",
   "name": "python",
   "nbconvert_exporter": "python",
   "pygments_lexer": "ipython3",
   "version": "3.12.7"
  }
 },
 "nbformat": 4,
 "nbformat_minor": 5
}
